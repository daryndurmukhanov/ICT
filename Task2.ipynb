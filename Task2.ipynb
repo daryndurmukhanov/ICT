{
 "cells": [
  {
   "cell_type": "code",
   "execution_count": 1,
   "metadata": {},
   "outputs": [
    {
     "name": "stdout",
     "output_type": "stream",
     "text": [
      "1\n",
      "2\n",
      "3\n",
      "4\n",
      "NO\n"
     ]
    }
   ],
   "source": [
    "x1 = int(input())\n",
    "x2 = int(input())\n",
    "x3 = int(input())\n",
    "x4 = int(input())\n",
    "if x1 == x3 or x2 == x4:\n",
    "    print(\"YES\")\n",
    "else:\n",
    "    print(\"NO\")"
   ]
  },
  {
   "cell_type": "code",
   "execution_count": 5,
   "metadata": {},
   "outputs": [
    {
     "name": "stdout",
     "output_type": "stream",
     "text": [
      "1\n",
      "2\n",
      "3\n",
      "4\n",
      "NO\n"
     ]
    }
   ],
   "source": [
    "x1 = int(input())\n",
    "x2 = int(input())\n",
    "x3 = int(input())\n",
    "x4 = int(input())\n",
    "if all((abs(x2 - x4) <= 1, abs(x1 - x3) <= 1)):\n",
    "    print('YES')\n",
    "else:\n",
    "    print('NO')"
   ]
  },
  {
   "cell_type": "code",
   "execution_count": 3,
   "metadata": {},
   "outputs": [
    {
     "name": "stdout",
     "output_type": "stream",
     "text": [
      "4\n",
      "4\n",
      "5\n",
      "5\n",
      "YES\n"
     ]
    }
   ],
   "source": [
    "x1 = int(input())\n",
    "x2 = int(input())\n",
    "x3 = int(input())\n",
    "x4 = int(input())\n",
    "if abs(x1 - x3) == abs(x2 - x3):\n",
    "    print('YES')\n",
    "else:\n",
    "    print('NO')"
   ]
  },
  {
   "cell_type": "code",
   "execution_count": null,
   "metadata": {},
   "outputs": [],
   "source": [
    "x1 = int(input())\n",
    "x2 = int(input())\n",
    "x3 = int(input())\n",
    "x4 = int(input())\n",
    "if abs(x1 - x3) == abs(x2 - x4) or x1 == x3 or x2 == x4:\n",
    "    print('YES')\n",
    "else:\n",
    "    print('NO')"
   ]
  },
  {
   "cell_type": "code",
   "execution_count": null,
   "metadata": {},
   "outputs": [],
   "source": [
    "x1 = int(input())\n",
    "x2 = int(input())\n",
    "x3 = int(input())\n",
    "x4 = int(input())\n",
    "if (abs(x1 - x2) == 1 and abs(y1 - y2) == 2) or (abs(x1 - x2) == 2 and abs(y1 - y2) == 1):\n",
    "    print('YES')\n",
    "else:\n",
    "    print('NO')"
   ]
  },
  {
   "cell_type": "code",
   "execution_count": null,
   "metadata": {},
   "outputs": [],
   "source": [
    "n = int(input())\n",
    "m = int(input())\n",
    "k = int(input())\n",
    "if k < n * m and ((k % n == 0) or (k % m == 0)):\n",
    "    print('YES')\n",
    "else:\n",
    "    print('NO')"
   ]
  },
  {
   "cell_type": "code",
   "execution_count": null,
   "metadata": {},
   "outputs": [],
   "source": [
    "n = int(input())\n",
    "m = int(input())\n",
    "x = int(input())\n",
    "y = int(input())\n",
    "print(min(x, y, min(N, M)-x, max(N, M)-y))"
   ]
  },
  {
   "cell_type": "code",
   "execution_count": 7,
   "metadata": {},
   "outputs": [
    {
     "name": "stdout",
     "output_type": "stream",
     "text": [
      "1\n",
      "2\n",
      "1\n",
      "1 1 2\n"
     ]
    }
   ],
   "source": [
    "a = int(input())\n",
    "b = int(input())\n",
    "c = int(input())\n",
    "maximum = max(a, b, c)\n",
    "minimum = min(a, b, c)\n",
    "sr = a + b + c - minimum - maximum\n",
    "print(\"%d %d %d\"%(minimum, sr, maximum))"
   ]
  },
  {
   "cell_type": "code",
   "execution_count": null,
   "metadata": {},
   "outputs": [],
   "source": [
    "A1 = int(input())  # Box 1\n",
    "B1 = int(input())\n",
    "C1 = int(input())\n",
    "A2 = int(input())  # Box 2\n",
    "B2 = int(input())\n",
    "C2 = int(input())\n",
    "if ((A1 == A2 and B1 == B2 and C1 == C2) or\n",
    "        (A1 == A2 and B1 == C2 and C1 == B2) or\n",
    "        (A1 == C2 and B1 == A2 and C1 == B2) or\n",
    "        (A1 == B2 and B1 == A2 and C1 == C2) or\n",
    "        (A1 == B2 and B1 == C2 and C1 == A2) or\n",
    "        (A1 == C2 and B1 == B2 and C1 == A2)):\n",
    "    print('Boxes are equal')\n",
    "elif ((A1 <= A2 and B1 <= B2 and C1 <= C2) or\n",
    "        (A1 <= A2 and B1 <= C2 and C1 <= B2) or\n",
    "        (A1 <= C2 and B1 <= A2 and C1 <= B2) or\n",
    "        (A1 <= B2 and B1 <= A2 and C1 <= C2) or\n",
    "        (A1 <= B2 and B1 <= C2 and C1 <= A2) or\n",
    "        (A1 <= C2 and B1 <= B2 and C1 <= A2)):\n",
    "    print('The first box is smaller than the second one')\n",
    "elif ((A1 >= A2 and B1 >= B2 and C1 >= C2) or\n",
    "        (A1 >= A2 and B1 >= C2 and C1 >= B2) or\n",
    "        (A1 >= C2 and B1 >= A2 and C1 >= B2) or\n",
    "        (A1 >= B2 and B1 >= A2 and C1 >= C2) or\n",
    "        (A1 >= B2 and B1 >= C2 and C1 >= A2) or\n",
    "        (A1 >= C2 and B1 >= B2 and C1 >= A2)):\n",
    "    print('The first box is larger than the second one')\n",
    "else:\n",
    "    print('Boxes are incomparable')"
   ]
  },
  {
   "cell_type": "code",
   "execution_count": null,
   "metadata": {},
   "outputs": [],
   "source": [
    "n = int(input())\n",
    "i = 1\n",
    "while i ** 2 < n:\n",
    "    print(i ** 2)\n",
    "    i += 1"
   ]
  },
  {
   "cell_type": "code",
   "execution_count": null,
   "metadata": {},
   "outputs": [],
   "source": [
    "n = int(input())\n",
    "i = 2\n",
    "while n % i != 0:\n",
    "    i += 1\n",
    "print(i)"
   ]
  },
  {
   "cell_type": "code",
   "execution_count": 10,
   "metadata": {},
   "outputs": [
    {
     "name": "stdin",
     "output_type": "stream",
     "text": [
      " 50\n"
     ]
    },
    {
     "name": "stdout",
     "output_type": "stream",
     "text": [
      "2\n",
      "4\n",
      "8\n",
      "16\n",
      "32\n"
     ]
    }
   ],
   "source": [
    "n = int(input())\n",
    "i = 0\n",
    "while 2 ** i < n:\n",
    "    print(2 ** i)\n",
    "    i += 1"
   ]
  },
  {
   "cell_type": "code",
   "execution_count": 11,
   "metadata": {},
   "outputs": [
    {
     "name": "stdin",
     "output_type": "stream",
     "text": [
      " 1\n",
      " 2\n",
      " 0\n"
     ]
    },
    {
     "name": "stdout",
     "output_type": "stream",
     "text": [
      "3\n"
     ]
    }
   ],
   "source": [
    "summa = 0\n",
    "n = -1 \n",
    "while n != 0:\n",
    "    n = int(input())\n",
    "    summa += n\n",
    "print(summa)"
   ]
  },
  {
   "cell_type": "code",
   "execution_count": 17,
   "metadata": {},
   "outputs": [
    {
     "name": "stdin",
     "output_type": "stream",
     "text": [
      " 1\n",
      " 2\n",
      " 2\n",
      " 0\n"
     ]
    },
    {
     "name": "stdout",
     "output_type": "stream",
     "text": [
      "2\n"
     ]
    }
   ],
   "source": [
    "maxi, cnt, n = 0, 0, -1\n",
    "while n != 0:\n",
    "    n = int(input())\n",
    "    if n > maxi:\n",
    "        maxi, cnt = n, 1\n",
    "    elif n == maxi:\n",
    "        cnt += 1       \n",
    "print(cnt)"
   ]
  },
  {
   "cell_type": "code",
   "execution_count": null,
   "metadata": {},
   "outputs": [],
   "source": [
    "n = int(input())\n",
    "if n == 0:\n",
    "    print(0)\n",
    "else:\n",
    "    a, b = 0, 1\n",
    "    for i in range(2, n + 1):\n",
    "        a, b = b, a + b\n",
    "    print(b)"
   ]
  },
  {
   "cell_type": "code",
   "execution_count": 18,
   "metadata": {},
   "outputs": [
    {
     "name": "stdin",
     "output_type": "stream",
     "text": [
      " 1\n",
      " 2\n",
      " 1\n",
      " 0\n"
     ]
    },
    {
     "name": "stdout",
     "output_type": "stream",
     "text": [
      "1\n"
     ]
    }
   ],
   "source": [
    "b, c, cnt = 1000, 1000, 0\n",
    "while True:\n",
    "    a, b, c = b, c, int(input())\n",
    "    if c == 0:\n",
    "        break\n",
    "    cnt += a < b and c < b\n",
    "print(cnt)"
   ]
  },
  {
   "cell_type": "code",
   "execution_count": null,
   "metadata": {},
   "outputs": [],
   "source": [
    "l = [int(i) for i in input().split()]\n",
    "cnt = 1\n",
    "for i in range(0, len(l) - 1):\n",
    "    if l[i] != l[i + 1]:\n",
    "        cnt += 1\n",
    "print(cnt)"
   ]
  },
  {
   "cell_type": "code",
   "execution_count": 25,
   "metadata": {},
   "outputs": [
    {
     "name": "stdin",
     "output_type": "stream",
     "text": [
      " 5\n",
      " 1 2 3 4 5\n"
     ]
    },
    {
     "name": "stdout",
     "output_type": "stream",
     "text": [
      "[5, 1, 2, 3, 4]\n"
     ]
    }
   ],
   "source": [
    "n = int(input())\n",
    "l = [int(i) for i in input().split()]\n",
    "last = l[n - 1]\n",
    "for i in range(n - 1, 0, -1):\n",
    "    temp = l[i - 1]\n",
    "    l[i - 1] = l[i]\n",
    "    l[i] = temp\n",
    "l[0] = last\n",
    "print(l)"
   ]
  },
  {
   "cell_type": "code",
   "execution_count": null,
   "metadata": {},
   "outputs": [],
   "source": [
    "l = [int(n) for n in input().split()]\n",
    "cnt = 0\n",
    "for i in range(len(l)):\n",
    "    for j in range(i + 1, len(l)):\n",
    "        if a[i] == a[j]:\n",
    "            cnt += 1\n",
    "print(cnt)"
   ]
  },
  {
   "cell_type": "code",
   "execution_count": null,
   "metadata": {},
   "outputs": [],
   "source": [
    "n, k = [int(s) for s in input().split()]\n",
    "bahn = ['I'] * n\n",
    "for i in range(k):\n",
    "    left, right = [int(s) for s in input().split()]\n",
    "    for j in range(left - 1, right):\n",
    "        bahn[j] = '.'\n",
    "print(''.join(bahn))"
   ]
  }
 ],
 "metadata": {
  "kernelspec": {
   "display_name": "Python 3",
   "language": "python",
   "name": "python3"
  },
  "language_info": {
   "codemirror_mode": {
    "name": "ipython",
    "version": 3
   },
   "file_extension": ".py",
   "mimetype": "text/x-python",
   "name": "python",
   "nbconvert_exporter": "python",
   "pygments_lexer": "ipython3",
   "version": "3.7.4"
  }
 },
 "nbformat": 4,
 "nbformat_minor": 4
}
