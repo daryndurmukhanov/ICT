{
 "cells": [
  {
   "cell_type": "code",
   "execution_count": 1,
   "metadata": {},
   "outputs": [
    {
     "name": "stdout",
     "output_type": "stream",
     "text": [
      "Daryn\n",
      "daryndurmu@gmail.com\n"
     ]
    }
   ],
   "source": [
    "print(\"Daryn\")\n",
    "print(\"daryndurmu@gmail.com\")"
   ]
  },
  {
   "cell_type": "code",
   "execution_count": 2,
   "metadata": {},
   "outputs": [
    {
     "name": "stdout",
     "output_type": "stream",
     "text": [
      "Please, Enter your name:daryn\n",
      "Hello, daryn\n"
     ]
    }
   ],
   "source": [
    "a = input(\"Please, Enter your name:\")\n",
    "print(\"Hello,\", a)"
   ]
  },
  {
   "cell_type": "code",
   "execution_count": 3,
   "metadata": {},
   "outputs": [
    {
     "name": "stdout",
     "output_type": "stream",
     "text": [
      "Please, Enter the width of a room:3\n",
      "Please, Enter the length of a room:4\n",
      "12 square meters\n"
     ]
    }
   ],
   "source": [
    "width = input(\"Please, Enter the width of a room:\")\n",
    "length = input(\"Please, Enter the length of a room:\")\n",
    "width1 = int(width[0])\n",
    "length1 = int(length[0])\n",
    "\n",
    "print(width1*length1, \"square meters\")"
   ]
  },
  {
   "cell_type": "code",
   "execution_count": 4,
   "metadata": {},
   "outputs": [
    {
     "name": "stdout",
     "output_type": "stream",
     "text": [
      "3\n",
      "4\n",
      "The area of the field is 0.0002754820936639118 acres\n"
     ]
    }
   ],
   "source": [
    "a = float(input())\n",
    "b = float(input())\n",
    "c = a * b / 43560\n",
    "print(\"The area of the field is \" + str(c) + \" acres\")\n"
   ]
  },
  {
   "cell_type": "code",
   "execution_count": 5,
   "metadata": {},
   "outputs": [
    {
     "name": "stdout",
     "output_type": "stream",
     "text": [
      "3\n",
      "4\n",
      "1.30 $\n"
     ]
    }
   ],
   "source": [
    "b1 = int(input())\n",
    "b2 = int(input())\n",
    "sum1 = b1 * 0.10\n",
    "sum2 = b2 * 0.25\n",
    "sum = sum1 + sum2\n",
    "print(\"{0:.2f}\".format(float(sum)) ,'$')\n"
   ]
  },
  {
   "cell_type": "code",
   "execution_count": 6,
   "metadata": {},
   "outputs": [
    {
     "name": "stdout",
     "output_type": "stream",
     "text": [
      "5\n",
      "tax amount: 0.90\n",
      "tip amount: 0.25\n",
      "Grand Total: 5.00\n"
     ]
    }
   ],
   "source": [
    "cost = float(input())\n",
    "tax = (cost * 18) / 100\n",
    "tip = (cost * 5) / 100\n",
    "\n",
    "print(\"tax amount:\", \"{0:.2f}\".format(float(tax)))\n",
    "print(\"tip amount:\", \"{0:.2f}\".format(float(tip)))\n",
    "print(\"Grand Total:\", \"{0:.2f}\".format(float(cost)))\n"
   ]
  },
  {
   "cell_type": "code",
   "execution_count": 7,
   "metadata": {},
   "outputs": [
    {
     "name": "stdout",
     "output_type": "stream",
     "text": [
      "4\n",
      "10\n"
     ]
    }
   ],
   "source": [
    "n = int(input())\n",
    "sum = (n)*(n+1)//2\n",
    "print(sum)"
   ]
  },
  {
   "cell_type": "code",
   "execution_count": 8,
   "metadata": {},
   "outputs": [
    {
     "name": "stdout",
     "output_type": "stream",
     "text": [
      "5\n",
      "3\n",
      "711\n"
     ]
    }
   ],
   "source": [
    "widgets = int(input())\n",
    "gizmos = int(input())\n",
    "\n",
    "allwid = widgets * 75\n",
    "allgiz = gizmos * 112\n",
    "print(allwid+allgiz)"
   ]
  },
  {
   "cell_type": "code",
   "execution_count": 9,
   "metadata": {},
   "outputs": [
    {
     "name": "stdout",
     "output_type": "stream",
     "text": [
      "6\n",
      "The saving of the 1 year: 6.24\n",
      "The saving of the 2 year: 6.49\n",
      "The saving of the 3 year: 6.75\n"
     ]
    }
   ],
   "source": [
    "n = int(input())\n",
    "n1 = float(n*4/100+n)\n",
    "n2 = float(n1*4/100+n1)\n",
    "n3 = float(n2*4/100+n2)\n",
    "\n",
    "print(\"The saving of the 1 year:\", \"{0:.2f}\".format(float(n1)))\n",
    "print(\"The saving of the 2 year:\", \"{0:.2f}\".format(float(n2)))\n",
    "print(\"The saving of the 3 year:\", \"{0:.2f}\".format(float(n3)))"
   ]
  },
  {
   "cell_type": "code",
   "execution_count": 10,
   "metadata": {},
   "outputs": [
    {
     "name": "stdout",
     "output_type": "stream",
     "text": [
      "4\n",
      "5\n",
      "The sum of a and b: 9\n",
      "The difference when b is subtracted from a -1\n",
      "The product of a and b 20\n",
      "The quotient when a is divided by b 0\n",
      "The remainder when a is divided by b 4\n",
      "The result of log10 a 0.6020599913279624\n",
      "The result of a^b 1024\n"
     ]
    }
   ],
   "source": [
    "import math\n",
    "a = int(input())\n",
    "b = int(input())\n",
    "print(\"The sum of a and b:\", a+b)\n",
    "print(\"The difference when b is subtracted from a\", a-b)\n",
    "print(\"The product of a and b\", a*b)\n",
    "print(\"The quotient when a is divided by b\", a//b)\n",
    "print(\"The remainder when a is divided by b\", a%b)\n",
    "print(\"The result of log10 a\",math.log10(a))\n",
    "print(\"The result of a^b\",pow(a,b) )\n"
   ]
  },
  {
   "cell_type": "code",
   "execution_count": 11,
   "metadata": {},
   "outputs": [
    {
     "name": "stdout",
     "output_type": "stream",
     "text": [
      "6\n",
      "6 mpg in litres is 1411.26 L/100km\n"
     ]
    }
   ],
   "source": [
    "am = int(input())\n",
    "print(am, \"mpg in litres is\", 235.21*am, \"L/100km\")"
   ]
  },
  {
   "cell_type": "code",
   "execution_count": 12,
   "metadata": {},
   "outputs": [
    {
     "name": "stdout",
     "output_type": "stream",
     "text": [
      "12 13\n",
      "14 15\n",
      "310.4937048126217\n"
     ]
    }
   ],
   "source": [
    "import math\n",
    "t1,g1 = input().split()\n",
    "t2,g2 = input().split()\n",
    "t1 = int(t1) \n",
    "t1 = math.radians(t1)\n",
    "g1 = int(g1)\n",
    "t2 = int(t2)\n",
    "t2 = math.radians(t2)\n",
    "g2 = int(g2)\n",
    "l = math.radians(g1-g2)\n",
    "print(6371.01*(math.acos(math.sin(t1)*math.sin(t2)+math.cos(t1)*math.cos(t2)*math.cos(l))))"
   ]
  },
  {
   "cell_type": "code",
   "execution_count": 13,
   "metadata": {},
   "outputs": [
    {
     "name": "stdout",
     "output_type": "stream",
     "text": [
      "4\n",
      "2\n"
     ]
    }
   ],
   "source": [
    "b = float(input())\n",
    "a = b*100\n",
    "cnt = 0\n",
    "while(a!=0):\n",
    "    if(a>=200):\n",
    "        a-=200\n",
    "        cnt+=1\n",
    "    if(a>=100 and a<200):\n",
    "        a-=100\n",
    "        cnt+=1\n",
    "    if(a>=25 and a<100):\n",
    "        a-=25\n",
    "        cnt+=1\n",
    "    if(a>=10 and a<25):\n",
    "        a-=10\n",
    "        cnt+=1\n",
    "    if(a>=5 and a<10):\n",
    "        a-=5\n",
    "        cnt+=1\n",
    "    if(a>=1 and a<5):\n",
    "        a-=1\n",
    "        cnt+=1\n",
    "print(cnt)"
   ]
  },
  {
   "cell_type": "code",
   "execution_count": 14,
   "metadata": {},
   "outputs": [
    {
     "name": "stdout",
     "output_type": "stream",
     "text": [
      "1 2 3\n",
      "3 4 5\n",
      "Your height is feet 30.48 cm\n",
      "Your height is feet 60.96 cm\n",
      "Your height is feet 91.44 cm\n",
      "Your height is inches 7.62 cm\n",
      "Your height is inches 10.16 cm\n",
      "Your height is inches 12.7 cm\n"
     ]
    }
   ],
   "source": [
    "feet = list(map(int, input().split()))\n",
    "inches = list(map(int, input().split()))\n",
    "for i in range(len(feet)):\n",
    "    print(\"Your height is feet\", feet[i]*12*2.54, 'cm')\n",
    "for i in range(len(inches)):\n",
    "    print(\"Your height is inches\", inches[i]*2.54, 'cm')"
   ]
  },
  {
   "cell_type": "code",
   "execution_count": 15,
   "metadata": {},
   "outputs": [
    {
     "name": "stdout",
     "output_type": "stream",
     "text": [
      "6\n",
      "distance in inches: 72\n",
      "distance in yards: 2.0\n",
      "distance in miles: 0.0011363636363636363\n"
     ]
    }
   ],
   "source": [
    "n = int(input())\n",
    "print(\"distance in inches:\", n*12)\n",
    "print(\"distance in yards:\", n/3)\n",
    "print(\"distance in miles:\", n/5280)"
   ]
  },
  {
   "cell_type": "code",
   "execution_count": 16,
   "metadata": {},
   "outputs": [
    {
     "name": "stdout",
     "output_type": "stream",
     "text": [
      "10\n",
      "Area of a circle: 62.83185307179586\n",
      "Volume of a circle: 4188.790204786391\n"
     ]
    }
   ],
   "source": [
    "import math\n",
    "r = int(input())\n",
    "print(\"Area of a circle:\", math.pi * r * 2)\n",
    "print(\"Volume of a circle:\", (4*math.pi*r*r*r)/3)"
   ]
  },
  {
   "cell_type": "code",
   "execution_count": 17,
   "metadata": {},
   "outputs": [
    {
     "name": "stdout",
     "output_type": "stream",
     "text": [
      "100\n",
      "5\n",
      "energy: 2093.0\n",
      "money: 51729.1229\n"
     ]
    }
   ],
   "source": [
    "m = int(input())\n",
    "t = int(input())\n",
    "print(\"energy:\", m*t*4.186)\n",
    "print(\"money:\", m*t*4.186*8.9*2.777)\n"
   ]
  },
  {
   "cell_type": "code",
   "execution_count": 18,
   "metadata": {},
   "outputs": [
    {
     "name": "stdout",
     "output_type": "stream",
     "text": [
      "5\n",
      "6\n",
      "471.2\n"
     ]
    }
   ],
   "source": [
    "import math \n",
    "r = int(input())\n",
    "h = int(input())\n",
    "print(\"{0:.1f}\".format(float(math.pi*r*r*h)))"
   ]
  },
  {
   "cell_type": "code",
   "execution_count": 19,
   "metadata": {},
   "outputs": [
    {
     "name": "stdout",
     "output_type": "stream",
     "text": [
      "7\n",
      "137.20000000000002\n"
     ]
    }
   ],
   "source": [
    "h = int(input())\n",
    "print(2*9.8*h)"
   ]
  },
  {
   "cell_type": "code",
   "execution_count": 20,
   "metadata": {},
   "outputs": [
    {
     "name": "stdout",
     "output_type": "stream",
     "text": [
      "1\n",
      "2\n",
      "3\n",
      "0.0008715872999271353\n"
     ]
    }
   ],
   "source": [
    "p = int(input())\n",
    "v = int(input())\n",
    "t = int(input())\n",
    "t+=273\n",
    "print(p*v/(8.314*t))"
   ]
  },
  {
   "cell_type": "code",
   "execution_count": 21,
   "metadata": {},
   "outputs": [
    {
     "name": "stdout",
     "output_type": "stream",
     "text": [
      "6\n",
      "7\n",
      "21.0\n"
     ]
    }
   ],
   "source": [
    "b = int(input())\n",
    "h = int(input())\n",
    "print(b*h/2)"
   ]
  },
  {
   "cell_type": "code",
   "execution_count": 24,
   "metadata": {},
   "outputs": [
    {
     "name": "stdout",
     "output_type": "stream",
     "text": [
      "4 5 6\n",
      "9.921567416492215\n"
     ]
    }
   ],
   "source": [
    "import math\n",
    "s1,s2,s3 = input().split()\n",
    "s1 = int(s1)\n",
    "s2 = int(s2)\n",
    "s3 = int(s3)\n",
    "p = float((s1+s2+s3)/2)\n",
    "print(math.sqrt(p*(p-s1)*(p-s2)*(p-s3)))"
   ]
  },
  {
   "cell_type": "code",
   "execution_count": 25,
   "metadata": {},
   "outputs": [
    {
     "name": "stdout",
     "output_type": "stream",
     "text": [
      "5\n",
      "7\n",
      "90.84781110003973\n"
     ]
    }
   ],
   "source": [
    "import math\n",
    "s = int(input())\n",
    "n = int(input())\n",
    "print(n*(s*s/(4*math.tan(math.pi/n))))"
   ]
  },
  {
   "cell_type": "code",
   "execution_count": 26,
   "metadata": {},
   "outputs": [
    {
     "name": "stdout",
     "output_type": "stream",
     "text": [
      "1\n",
      "2\n",
      "3\n",
      "4\n",
      "93784\n"
     ]
    }
   ],
   "source": [
    "d = int(input())\n",
    "h = int(input())\n",
    "m = int(input())\n",
    "s = int(input())\n",
    "print(d*3600*24 + h*3600 + m*60 + s)"
   ]
  },
  {
   "cell_type": "code",
   "execution_count": null,
   "metadata": {},
   "outputs": [],
   "source": [
    "seconds = int(input(\"Enter number of seconds: \")) \n",
    "\n",
    "days = seconds / 86400\n",
    "seconds = seconds % 86400\n",
    "\n",
    "hours = seconds / 3600\n",
    "seconds = seconds % 3600\n",
    " \n",
    "minutes = seconds / 60\n",
    "seconds = seconds % 60\n",
    " \n",
    "print(\"The duration is: \",\"%d:%02d:%02d:%02d\"%(days,hours,minutes,seconds))\n",
    "\n"
   ]
  },
  {
   "cell_type": "code",
   "execution_count": null,
   "metadata": {},
   "outputs": [],
   "source": [
    "import time\n",
    "t = time.localtime()\n",
    "print(time.asctime(t))"
   ]
  },
  {
   "cell_type": "code",
   "execution_count": null,
   "metadata": {},
   "outputs": [],
   "source": [
    "print(\"If your height is in inches and your weight is in pounds, enter number 1\")\n",
    "print(\"If your height is in meters and your weight is in kilograms, enter number 2\")\n",
    "s = str(input())\n",
    "w=int(input())\n",
    "h=int(input())\n",
    "bmi1=(w*703)/(h*h)\n",
    "bmi2=(w)/(h*h)\n",
    "if s == 1:\n",
    "    print(bmi1)\n",
    "else:\n",
    "    print(bmi2)"
   ]
  },
  {
   "cell_type": "code",
   "execution_count": null,
   "metadata": {},
   "outputs": [],
   "source": [
    "T = float(input())\n",
    "V = float(input())\n",
    "WCI = 13.12+0.6215*T - 11.37*pow(V, 0.16)  +0.3965*T*pow( V, 0.16) \n",
    "print(WCI)\n",
    "if(WCI + 0.5>= int(WCI) + 1):\n",
    "    print(int(WCI) + 1)\n",
    "else:\n",
    "    print(int(WCI))"
   ]
  },
  {
   "cell_type": "code",
   "execution_count": null,
   "metadata": {},
   "outputs": [],
   "source": [
    "T = int(input())\n",
    "print(T+273.15,\"Kelvin\")\n",
    "print(9/5*T+32,\"Fahrenheit\")"
   ]
  },
  {
   "cell_type": "code",
   "execution_count": null,
   "metadata": {},
   "outputs": [],
   "source": [
    "p = int(input())\n",
    "print(p/6.895,\"pounds per square inch\")\n",
    "print(p*7.5,\"milimetres of mercury\")\n",
    "print(p/101,\"atmosphere\")"
   ]
  },
  {
   "cell_type": "code",
   "execution_count": null,
   "metadata": {},
   "outputs": [],
   "source": [
    "s = input()\n",
    "\n",
    "print(s[0],\"+\",s[1],\"+\",s[2],\"+\",s[3],\"=\",int(s[0]) + int(s[1])+int(s[2])+int(s[3]))"
   ]
  },
  {
   "cell_type": "code",
   "execution_count": null,
   "metadata": {},
   "outputs": [],
   "source": [
    "s = list(map(int, input().split()))\n",
    "x=sum(s)\n",
    "print(min(s), x-min(s)-max(s), max(s))"
   ]
  },
  {
   "cell_type": "code",
   "execution_count": null,
   "metadata": {},
   "outputs": [],
   "source": [
    "n = int(input())\n",
    "print(str(\"{0:.2f}\".format(3.49*n))+\"$\",\"basic price\")\n",
    "print(str(\"{0:.2f}\".format(3.49*n*60/100))+\"$\",\"skidka\")\n",
    "print(str(\"{0:.2f}\".format(3.49*n*40/100))+\"$\",\"itogo\")"
   ]
  }
 ],
 "metadata": {
  "kernelspec": {
   "display_name": "Python 3",
   "language": "python",
   "name": "python3"
  },
  "language_info": {
   "codemirror_mode": {
    "name": "ipython",
    "version": 3
   },
   "file_extension": ".py",
   "mimetype": "text/x-python",
   "name": "python",
   "nbconvert_exporter": "python",
   "pygments_lexer": "ipython3",
   "version": "3.7.4"
  }
 },
 "nbformat": 4,
 "nbformat_minor": 2
}
